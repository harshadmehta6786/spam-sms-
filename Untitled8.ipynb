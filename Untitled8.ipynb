{
  "nbformat": 4,
  "nbformat_minor": 0,
  "metadata": {
    "colab": {
      "provenance": [],
      "authorship_tag": "ABX9TyP0r5ygQnG5wpJvv9JVeFl2",
      "include_colab_link": true
    },
    "kernelspec": {
      "name": "python3",
      "display_name": "Python 3"
    },
    "language_info": {
      "name": "python"
    }
  },
  "cells": [
    {
      "cell_type": "markdown",
      "metadata": {
        "id": "view-in-github",
        "colab_type": "text"
      },
      "source": [
        "<a href=\"https://colab.research.google.com/github/harshadmehta6786/spam-sms-/blob/main/Untitled8.ipynb\" target=\"_parent\"><img src=\"https://colab.research.google.com/assets/colab-badge.svg\" alt=\"Open In Colab\"/></a>"
      ]
    },
    {
      "cell_type": "code",
      "execution_count": 2,
      "metadata": {
        "colab": {
          "base_uri": "https://localhost:8080/"
        },
        "id": "0M-qtw_V59-e",
        "outputId": "e48a7f28-45f4-46b0-cda5-1bb148d64393"
      },
      "outputs": [
        {
          "output_type": "stream",
          "name": "stderr",
          "text": [
            "[nltk_data] Downloading package stopwords to /root/nltk_data...\n",
            "[nltk_data]   Package stopwords is already up-to-date!\n"
          ]
        },
        {
          "output_type": "stream",
          "name": "stdout",
          "text": [
            "Model saved as spam_sms_detector.joblib\n",
            "Accuracy: 0.97\n",
            "Classification Report:\n",
            "               precision    recall  f1-score   support\n",
            "\n",
            "           0       0.96      1.00      0.98       965\n",
            "           1       1.00      0.75      0.86       150\n",
            "\n",
            "    accuracy                           0.97      1115\n",
            "   macro avg       0.98      0.88      0.92      1115\n",
            "weighted avg       0.97      0.97      0.96      1115\n",
            "\n",
            "Confusion Matrix:\n",
            " [[965   0]\n",
            " [ 37 113]]\n",
            "Message: Congratulations! You have won a lottery of $1000. Call now!\n",
            "Prediction: Ham\n"
          ]
        }
      ],
      "source": [
        "import pandas as pd\n",
        "import numpy as np\n",
        "import re\n",
        "import nltk\n",
        "from nltk.corpus import stopwords\n",
        "from nltk.stem import PorterStemmer\n",
        "from sklearn.feature_extraction.text import TfidfVectorizer\n",
        "from sklearn.model_selection import train_test_split\n",
        "from sklearn.naive_bayes import MultinomialNB\n",
        "from sklearn.pipeline import Pipeline\n",
        "from sklearn.metrics import accuracy_score, classification_report, confusion_matrix\n",
        "from joblib import dump, load\n",
        "import os\n",
        "\n",
        "# Ensure stopwords are downloaded\n",
        "nltk.download('stopwords')\n",
        "\n",
        "# Load dataset\n",
        "file_path = \"/content/spam.csv\"  # Update this path if needed\n",
        "if not os.path.exists(file_path):\n",
        "    raise FileNotFoundError(f\"Dataset not found at {file_path}. Please upload it.\")\n",
        "\n",
        "df = pd.read_csv(file_path, encoding='latin-1')  # Use 'latin-1' for compatibility\n",
        "\n",
        "# Rename columns if necessary\n",
        "df = df.iloc[:, :2]  # Keep only first 2 columns (label & message)\n",
        "df.columns = [\"label\", \"message\"]\n",
        "\n",
        "# Convert labels: 'ham' → 0, 'spam' → 1\n",
        "df['label'] = df['label'].map({'ham': 0, 'spam': 1})\n",
        "\n",
        "# Text preprocessing function\n",
        "def preprocess_text(text):\n",
        "    text = re.sub(r'[^a-zA-Z]', ' ', text)  # Remove non-alphabet characters\n",
        "    text = text.lower().split()  # Convert to lowercase and tokenize\n",
        "    ps = PorterStemmer()\n",
        "    text = [ps.stem(word) for word in text if word not in stopwords.words('english')]\n",
        "    return ' '.join(text)\n",
        "\n",
        "# Apply text preprocessing\n",
        "df['message'] = df['message'].apply(preprocess_text)\n",
        "\n",
        "# Create text classification pipeline\n",
        "pipeline = Pipeline([\n",
        "    ('tfidf', TfidfVectorizer()),  # Convert text to TF-IDF features\n",
        "    ('classifier', MultinomialNB())  # Train a Naïve Bayes classifier\n",
        "])\n",
        "\n",
        "# Split dataset into training and testing\n",
        "X_train, X_test, y_train, y_test = train_test_split(df['message'], df['label'], test_size=0.2, random_state=42)\n",
        "\n",
        "# Train model\n",
        "pipeline.fit(X_train, y_train)\n",
        "\n",
        "# Save trained model\n",
        "model_path = \"spam_sms_detector.joblib\"\n",
        "dump(pipeline, model_path)\n",
        "print(f\"Model saved as {model_path}\")\n",
        "\n",
        "# Predictions\n",
        "y_pred = pipeline.predict(X_test)\n",
        "\n",
        "# Model evaluation\n",
        "accuracy = accuracy_score(y_test, y_pred)\n",
        "report = classification_report(y_test, y_pred)\n",
        "conf_matrix = confusion_matrix(y_test, y_pred)\n",
        "\n",
        "print(f\"Accuracy: {accuracy:.2f}\")\n",
        "print(\"Classification Report:\\n\", report)\n",
        "print(\"Confusion Matrix:\\n\", conf_matrix)\n",
        "\n",
        "# Function to predict spam or ham\n",
        "def predict_sms(text):\n",
        "    if not os.path.exists(model_path):\n",
        "        raise FileNotFoundError(f\"Trained model not found. Please train and save the model first.\")\n",
        "    pipeline = load(model_path)  # Load trained model\n",
        "    prediction = pipeline.predict([text])\n",
        "    return \"Spam\" if prediction[0] == 1 else \"Ham\"\n",
        "\n",
        "# Example usage\n",
        "sms = \"Congratulations! You have won a lottery of $1000. Call now!\"\n",
        "print(f\"Message: {sms}\\nPrediction: {predict_sms(sms)}\")\n"
      ]
    }
  ]
}